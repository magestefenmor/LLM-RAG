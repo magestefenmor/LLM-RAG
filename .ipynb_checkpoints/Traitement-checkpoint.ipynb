{
 "cells": [
  {
   "cell_type": "code",
   "execution_count": 2,
   "metadata": {},
   "outputs": [],
   "source": [
    "import pandas as pd\n",
    "import re\n",
    "import unicodedata"
   ]
  },
  {
   "cell_type": "code",
   "execution_count": 3,
   "metadata": {},
   "outputs": [],
   "source": [
    "article = pd.read_csv(\"articles.csv\")"
   ]
  },
  {
   "cell_type": "code",
   "execution_count": 4,
   "metadata": {},
   "outputs": [
    {
     "data": {
      "text/html": [
       "<div>\n",
       "<style scoped>\n",
       "    .dataframe tbody tr th:only-of-type {\n",
       "        vertical-align: middle;\n",
       "    }\n",
       "\n",
       "    .dataframe tbody tr th {\n",
       "        vertical-align: top;\n",
       "    }\n",
       "\n",
       "    .dataframe thead th {\n",
       "        text-align: right;\n",
       "    }\n",
       "</style>\n",
       "<table border=\"1\" class=\"dataframe\">\n",
       "  <thead>\n",
       "    <tr style=\"text-align: right;\">\n",
       "      <th></th>\n",
       "      <th>Titre</th>\n",
       "      <th>Lien</th>\n",
       "      <th>Date</th>\n",
       "      <th>Texte</th>\n",
       "    </tr>\n",
       "  </thead>\n",
       "  <tbody>\n",
       "    <tr>\n",
       "      <th>0</th>\n",
       "      <td>NaN</td>\n",
       "      <td>https://www.agenceecofin.com/actualites/2501-1...</td>\n",
       "      <td>25/01/2025</td>\n",
       "      <td>(Agence Ecofin) - Le Gabon a mené plusieurs ac...</td>\n",
       "    </tr>\n",
       "    <tr>\n",
       "      <th>1</th>\n",
       "      <td>NaN</td>\n",
       "      <td>https://www.agenceecofin.com/actualites-infras...</td>\n",
       "      <td>25/01/2025</td>\n",
       "      <td>(Agence Ecofin) - L'année 2025 s'annonce comme...</td>\n",
       "    </tr>\n",
       "    <tr>\n",
       "      <th>2</th>\n",
       "      <td>NaN</td>\n",
       "      <td>https://www.agenceecofin.com/actualites-cultur...</td>\n",
       "      <td>25/01/2025</td>\n",
       "      <td>(Agence Ecofin) - Interrogé en 1920 par un cri...</td>\n",
       "    </tr>\n",
       "    <tr>\n",
       "      <th>3</th>\n",
       "      <td>NaN</td>\n",
       "      <td>https://www.agenceecofin.com/actualites/2501-1...</td>\n",
       "      <td>25/01/2025</td>\n",
       "      <td>(Agence Ecofin) - Au menu, le retrait des Etat...</td>\n",
       "    </tr>\n",
       "    <tr>\n",
       "      <th>4</th>\n",
       "      <td>NaN</td>\n",
       "      <td>https://www.agenceecofin.com/actualites/2501-1...</td>\n",
       "      <td>25/01/2025</td>\n",
       "      <td>(Agence Ecofin) - La population de Madagascar ...</td>\n",
       "    </tr>\n",
       "  </tbody>\n",
       "</table>\n",
       "</div>"
      ],
      "text/plain": [
       "   Titre                                               Lien        Date  \\\n",
       "0    NaN  https://www.agenceecofin.com/actualites/2501-1...  25/01/2025   \n",
       "1    NaN  https://www.agenceecofin.com/actualites-infras...  25/01/2025   \n",
       "2    NaN  https://www.agenceecofin.com/actualites-cultur...  25/01/2025   \n",
       "3    NaN  https://www.agenceecofin.com/actualites/2501-1...  25/01/2025   \n",
       "4    NaN  https://www.agenceecofin.com/actualites/2501-1...  25/01/2025   \n",
       "\n",
       "                                               Texte  \n",
       "0  (Agence Ecofin) - Le Gabon a mené plusieurs ac...  \n",
       "1  (Agence Ecofin) - L'année 2025 s'annonce comme...  \n",
       "2  (Agence Ecofin) - Interrogé en 1920 par un cri...  \n",
       "3  (Agence Ecofin) - Au menu, le retrait des Etat...  \n",
       "4  (Agence Ecofin) - La population de Madagascar ...  "
      ]
     },
     "execution_count": 4,
     "metadata": {},
     "output_type": "execute_result"
    }
   ],
   "source": [
    "article.head()"
   ]
  },
  {
   "cell_type": "code",
   "execution_count": 5,
   "metadata": {},
   "outputs": [
    {
     "data": {
      "text/plain": [
       "203"
      ]
     },
     "execution_count": 5,
     "metadata": {},
     "output_type": "execute_result"
    }
   ],
   "source": [
    "len(article)"
   ]
  },
  {
   "cell_type": "code",
   "execution_count": 6,
   "metadata": {},
   "outputs": [
    {
     "data": {
      "text/plain": [
       "Titre    203\n",
       "Lien       0\n",
       "Date       0\n",
       "Texte      0\n",
       "dtype: int64"
      ]
     },
     "execution_count": 6,
     "metadata": {},
     "output_type": "execute_result"
    }
   ],
   "source": [
    "article.isnull().sum()"
   ]
  },
  {
   "cell_type": "code",
   "execution_count": 7,
   "metadata": {},
   "outputs": [
    {
     "data": {
      "text/plain": [
       "'(Agence Ecofin) - Le Gabon a mené plusieurs actions ces dernières années pour valoriser la transformation industrielle de son bois, volet porteur d’une économie jusqu’ici dominée par le pétrole.\\nL’indice composite des activités industrielles du domaine du bois au Gabon a grimpé de 4% en glissement trimestriel au 3etrimestre 2024, selon la dernière note conjoncturelle du ministère de l’Economie. Cette appréciation s’explique,relaieLe Nouveau Gabon, par la stabilité de la demande chinoise, le géant asiatique étant le principal client pour le bois gabonais, notamment celui de placage et le contreplaqué.\\nL’indice de production du contreplaqué a ainsi augmenté de 19% par rapport au 2etrimestre 2024, poussé selon le ministère par la demande en Asie, en UE et sur le marché local. L’indice pour le bois de placage a quant à lui grimpé de 11% par rapport au trimestre précédent, soutenu par la demande en provenance de Chine.\\nIl n’y a néanmoins pas eu d’embellie sur le segment du sciage, qui a affiché -9%, marquant une 2ebaisse consécutive. Cette baisse est expliquée par des difficultés à écouler les stocks de produits finis, mais aussi par un carnet de commandes mal orienté, en particulier pour les exportations.\\nLa croissance globale enregistrée dans le secteur au 3etrimestre 2024 reflète les efforts du gouvernement pour promouvoir la filière forêt-bois, un secteur stratégique qui constitue le 2evolet source de valorisation des ressources naturelles du Gabon après le pétrole.'"
      ]
     },
     "execution_count": 7,
     "metadata": {},
     "output_type": "execute_result"
    }
   ],
   "source": [
    "article.Texte[0]"
   ]
  },
  {
   "cell_type": "code",
   "execution_count": null,
   "metadata": {},
   "outputs": [],
   "source": []
  },
  {
   "cell_type": "code",
   "execution_count": 8,
   "metadata": {},
   "outputs": [],
   "source": [
    "def nettoyer(texte):\n",
    "    # Extraire la partie avant le tiret comme source\n",
    "    match = re.match(r'^(.*?) - (.*)', texte)\n",
    "    if match:\n",
    "        source = match.group(1).strip()  # Partie avant le tiret\n",
    "        contenu = match.group(2).strip()  # Texte après le tiret\n",
    "        \n",
    "        # Supprimer les parenthèses et leur contenu de la source\n",
    "        source = re.sub(r'^\\((.*?)\\)$', r'\\1', source).strip()\n",
    "    else:\n",
    "        source = None\n",
    "        contenu = texte.strip()  # Si aucun tiret n'est trouvé, tout le texte est mis dans contenu\n",
    "\n",
    "    # Nettoyer le contenu\n",
    "    contenu = re.sub(r'(\\d+)e([a-zA-ZéèêëÉÈÊË])', r'\\1e \\2', contenu)  # Corrige \"3etrimestre\" -> \"3e trimestre\"\n",
    "    contenu = re.sub(r'\\n+', ' ', contenu)  # Remplace les sauts de ligne par des espaces\n",
    "    contenu = re.sub(r'\\s{2,}', ' ', contenu)  # Supprime les espaces multiples\n",
    "    contenu = contenu.strip() # Supprimer les espaces en debut et en fin\n",
    "    \n",
    "    return source, contenu\n",
    "\n",
    "\n"
   ]
  },
  {
   "cell_type": "code",
   "execution_count": 9,
   "metadata": {},
   "outputs": [],
   "source": [
    "def extraire_source_et_contenu(texte):\n",
    "    \"\"\"Extrait la source et le contenu à partir du texte.\"\"\"\n",
    "    # Utiliser re.split pour diviser le texte en deux parties\n",
    "    parties = re.split(r' - ', texte, 1)  # Limite à 1 pour ne diviser qu'une fois\n",
    "    if len(parties) == 2:\n",
    "        source = parties[0].strip()  # Partie avant le tiret\n",
    "        contenu = parties[1].strip()  # Texte après le tiret\n",
    "        \n",
    "        # Supprimer les parenthèses et leur contenu de la source\n",
    "        #source = re.sub(r'\\(.*?\\)', '', source).strip()\n",
    "        source = re.sub(r'^\\((.*?)\\)$', r'\\1', source).strip()\n",
    "    else:\n",
    "        source = None\n",
    "        contenu = texte.strip()  # Si aucun tiret n'est trouvé, tout le texte est mis dans contenu\n",
    "\n",
    "    return source, contenu"
   ]
  },
  {
   "cell_type": "code",
   "execution_count": 10,
   "metadata": {},
   "outputs": [],
   "source": [
    "def nettoyer_contenu1(contenu):\n",
    "    \"\"\"Nettoie le contenu en supprimant les espaces inutiles, en corrigeant le format et en supprimant le texte après le dernier point.\"\"\"\n",
    "    \n",
    "    # Trouver l'index du dernier point\n",
    "    dernier_point = contenu.rfind('.')\n",
    "    if dernier_point != -1:\n",
    "        contenu = contenu[:dernier_point + 1].strip()  # Conserver le texte jusqu'au dernier point inclus\n",
    "\n",
    "    # Correction des formats spécifiques\n",
    "    contenu = re.sub(r'(\\d+)e([a-zA-ZéèêëÉÈÊË])', r'\\1e \\2', contenu)  \n",
    "    \n",
    "    # Remplacer les sauts de ligne par des espaces\n",
    "    contenu = re.sub(r'\\n+', ' ', contenu)\n",
    "    \n",
    "    # Supprimer les espaces multiples\n",
    "    contenu = re.sub(r'\\s{2,}', ' ', contenu)\n",
    "    \n",
    "    # Supprimer les espaces en début et en fin\n",
    "    contenu = contenu.strip()\n",
    "    \n",
    "    return contenu\n"
   ]
  },
  {
   "cell_type": "code",
   "execution_count": 11,
   "metadata": {},
   "outputs": [],
   "source": [
    "import re\n",
    "\n",
    "def nettoyer_contenu(contenu):\n",
    "    \"\"\"Nettoie le contenu en supprimant les espaces inutiles, en corrigeant le format, et en supprimant le texte après la dernière occurrence de '.\\n'.\"\"\"\n",
    "    \n",
    "    # Trouver l'index de la dernière occurrence de '.\\n'\n",
    "    index_sequence = contenu.rfind('.\\n')\n",
    "    if index_sequence != -1:\n",
    "        # Conserver le texte jusqu'à la dernière occurrence de '.\\n'\n",
    "        contenu = contenu[:index_sequence + 1].strip()  \n",
    "\n",
    "    # Correction des formats spécifiques\n",
    "    contenu = re.sub(r'(\\d+)e([a-zA-ZéèêëÉÈÊË])', r'\\1e \\2', contenu)\n",
    "    \n",
    "    # Remplacer les sauts de ligne par des espaces\n",
    "    contenu = re.sub(r'\\n+', ' ', contenu)\n",
    "    \n",
    "    # Supprimer les espaces multiples\n",
    "    contenu = re.sub(r'\\s{2,}', ' ', contenu)\n",
    "    \n",
    "    # Supprimer les espaces en début et en fin\n",
    "    contenu = contenu.strip()\n",
    "    \n",
    "    return contenu"
   ]
  },
  {
   "cell_type": "code",
   "execution_count": 12,
   "metadata": {},
   "outputs": [
    {
     "data": {
      "text/html": [
       "<div>\n",
       "<style scoped>\n",
       "    .dataframe tbody tr th:only-of-type {\n",
       "        vertical-align: middle;\n",
       "    }\n",
       "\n",
       "    .dataframe tbody tr th {\n",
       "        vertical-align: top;\n",
       "    }\n",
       "\n",
       "    .dataframe thead th {\n",
       "        text-align: right;\n",
       "    }\n",
       "</style>\n",
       "<table border=\"1\" class=\"dataframe\">\n",
       "  <thead>\n",
       "    <tr style=\"text-align: right;\">\n",
       "      <th></th>\n",
       "      <th>Titre</th>\n",
       "      <th>Lien</th>\n",
       "      <th>Date</th>\n",
       "      <th>Texte</th>\n",
       "      <th>Source</th>\n",
       "      <th>Contenu</th>\n",
       "    </tr>\n",
       "  </thead>\n",
       "  <tbody>\n",
       "    <tr>\n",
       "      <th>0</th>\n",
       "      <td>NaN</td>\n",
       "      <td>https://www.agenceecofin.com/actualites/2501-1...</td>\n",
       "      <td>25/01/2025</td>\n",
       "      <td>(Agence Ecofin) - Le Gabon a mené plusieurs ac...</td>\n",
       "      <td>Agence Ecofin</td>\n",
       "      <td>Le Gabon a mené plusieurs actions ces dernière...</td>\n",
       "    </tr>\n",
       "    <tr>\n",
       "      <th>1</th>\n",
       "      <td>NaN</td>\n",
       "      <td>https://www.agenceecofin.com/actualites-infras...</td>\n",
       "      <td>25/01/2025</td>\n",
       "      <td>(Agence Ecofin) - L'année 2025 s'annonce comme...</td>\n",
       "      <td>Agence Ecofin</td>\n",
       "      <td>L'année 2025 s'annonce comme charnière pour le...</td>\n",
       "    </tr>\n",
       "    <tr>\n",
       "      <th>2</th>\n",
       "      <td>NaN</td>\n",
       "      <td>https://www.agenceecofin.com/actualites-cultur...</td>\n",
       "      <td>25/01/2025</td>\n",
       "      <td>(Agence Ecofin) - Interrogé en 1920 par un cri...</td>\n",
       "      <td>Agence Ecofin</td>\n",
       "      <td>Interrogé en 1920 par un critique sur son rapp...</td>\n",
       "    </tr>\n",
       "    <tr>\n",
       "      <th>3</th>\n",
       "      <td>NaN</td>\n",
       "      <td>https://www.agenceecofin.com/actualites/2501-1...</td>\n",
       "      <td>25/01/2025</td>\n",
       "      <td>(Agence Ecofin) - Au menu, le retrait des Etat...</td>\n",
       "      <td>Agence Ecofin</td>\n",
       "      <td>Au menu, le retrait des Etats-Unis de l’OMS, l...</td>\n",
       "    </tr>\n",
       "    <tr>\n",
       "      <th>4</th>\n",
       "      <td>NaN</td>\n",
       "      <td>https://www.agenceecofin.com/actualites/2501-1...</td>\n",
       "      <td>25/01/2025</td>\n",
       "      <td>(Agence Ecofin) - La population de Madagascar ...</td>\n",
       "      <td>Agence Ecofin</td>\n",
       "      <td>La population de Madagascar est majoritairemen...</td>\n",
       "    </tr>\n",
       "  </tbody>\n",
       "</table>\n",
       "</div>"
      ],
      "text/plain": [
       "   Titre                                               Lien        Date  \\\n",
       "0    NaN  https://www.agenceecofin.com/actualites/2501-1...  25/01/2025   \n",
       "1    NaN  https://www.agenceecofin.com/actualites-infras...  25/01/2025   \n",
       "2    NaN  https://www.agenceecofin.com/actualites-cultur...  25/01/2025   \n",
       "3    NaN  https://www.agenceecofin.com/actualites/2501-1...  25/01/2025   \n",
       "4    NaN  https://www.agenceecofin.com/actualites/2501-1...  25/01/2025   \n",
       "\n",
       "                                               Texte         Source  \\\n",
       "0  (Agence Ecofin) - Le Gabon a mené plusieurs ac...  Agence Ecofin   \n",
       "1  (Agence Ecofin) - L'année 2025 s'annonce comme...  Agence Ecofin   \n",
       "2  (Agence Ecofin) - Interrogé en 1920 par un cri...  Agence Ecofin   \n",
       "3  (Agence Ecofin) - Au menu, le retrait des Etat...  Agence Ecofin   \n",
       "4  (Agence Ecofin) - La population de Madagascar ...  Agence Ecofin   \n",
       "\n",
       "                                             Contenu  \n",
       "0  Le Gabon a mené plusieurs actions ces dernière...  \n",
       "1  L'année 2025 s'annonce comme charnière pour le...  \n",
       "2  Interrogé en 1920 par un critique sur son rapp...  \n",
       "3  Au menu, le retrait des Etats-Unis de l’OMS, l...  \n",
       "4  La population de Madagascar est majoritairemen...  "
      ]
     },
     "execution_count": 12,
     "metadata": {},
     "output_type": "execute_result"
    }
   ],
   "source": [
    "article[['Source', 'Contenu']] = article['Texte'].apply(lambda x: pd.Series(extraire_source_et_contenu(x)))\n",
    "article['Contenu'] = article['Contenu'].apply(nettoyer_contenu)\n",
    "\n",
    "# Afficher les premières lignes \n",
    "article.head()\n"
   ]
  },
  {
   "cell_type": "code",
   "execution_count": 13,
   "metadata": {},
   "outputs": [
    {
     "data": {
      "text/plain": [
       "0    https://www.agenceecofin.com/actualites/2501-1...\n",
       "1    https://www.agenceecofin.com/actualites-infras...\n",
       "2    https://www.agenceecofin.com/actualites-cultur...\n",
       "Name: Lien, dtype: object"
      ]
     },
     "execution_count": 13,
     "metadata": {},
     "output_type": "execute_result"
    }
   ],
   "source": [
    "article.Lien[0:3]"
   ]
  },
  {
   "cell_type": "code",
   "execution_count": 14,
   "metadata": {},
   "outputs": [],
   "source": [
    "# Fonction pour extraire le titre\n",
    "def extraire_titre(url):\n",
    "    # Vérifier le format avec des nombres suivis de tirets\n",
    "    match_nombres = re.search(r'actualites/\\d+-\\d+-(.*)', url)\n",
    "    # Vérifier le format avec un titre simple\n",
    "    #match_simple = re.search(r'actualites-(.*)', url)\n",
    "    match_simple = re.search(r'actualites-[a-z]+/\\d+-\\d+-(.*)', url)\n",
    "    \n",
    "    if match_nombres:\n",
    "        return match_nombres.group(1).replace('-', ' ').capitalize()  # Remplacer les tirets par des espaces\n",
    "    elif match_simple:\n",
    "        return match_simple.group(1).replace('-', ' ').capitalize()  # Titre simple\n",
    "    return \"Titre non trouvé.\""
   ]
  },
  {
   "cell_type": "code",
   "execution_count": 15,
   "metadata": {},
   "outputs": [],
   "source": [
    "article['titre'] = article['Lien'].apply(lambda x: extraire_titre(x))"
   ]
  },
  {
   "cell_type": "code",
   "execution_count": 16,
   "metadata": {},
   "outputs": [
    {
     "data": {
      "text/html": [
       "<div>\n",
       "<style scoped>\n",
       "    .dataframe tbody tr th:only-of-type {\n",
       "        vertical-align: middle;\n",
       "    }\n",
       "\n",
       "    .dataframe tbody tr th {\n",
       "        vertical-align: top;\n",
       "    }\n",
       "\n",
       "    .dataframe thead th {\n",
       "        text-align: right;\n",
       "    }\n",
       "</style>\n",
       "<table border=\"1\" class=\"dataframe\">\n",
       "  <thead>\n",
       "    <tr style=\"text-align: right;\">\n",
       "      <th></th>\n",
       "      <th>Titre</th>\n",
       "      <th>Lien</th>\n",
       "      <th>Date</th>\n",
       "      <th>Texte</th>\n",
       "      <th>Source</th>\n",
       "      <th>Contenu</th>\n",
       "      <th>titre</th>\n",
       "    </tr>\n",
       "  </thead>\n",
       "  <tbody>\n",
       "    <tr>\n",
       "      <th>0</th>\n",
       "      <td>NaN</td>\n",
       "      <td>https://www.agenceecofin.com/actualites/2501-1...</td>\n",
       "      <td>25/01/2025</td>\n",
       "      <td>(Agence Ecofin) - Le Gabon a mené plusieurs ac...</td>\n",
       "      <td>Agence Ecofin</td>\n",
       "      <td>Le Gabon a mené plusieurs actions ces dernière...</td>\n",
       "      <td>Gabon la production industrielle de bois en ha...</td>\n",
       "    </tr>\n",
       "    <tr>\n",
       "      <th>1</th>\n",
       "      <td>NaN</td>\n",
       "      <td>https://www.agenceecofin.com/actualites-infras...</td>\n",
       "      <td>25/01/2025</td>\n",
       "      <td>(Agence Ecofin) - L'année 2025 s'annonce comme...</td>\n",
       "      <td>Agence Ecofin</td>\n",
       "      <td>L'année 2025 s'annonce comme charnière pour le...</td>\n",
       "      <td>Energies trump dramani mahama et labonne parmi...</td>\n",
       "    </tr>\n",
       "    <tr>\n",
       "      <th>2</th>\n",
       "      <td>NaN</td>\n",
       "      <td>https://www.agenceecofin.com/actualites-cultur...</td>\n",
       "      <td>25/01/2025</td>\n",
       "      <td>(Agence Ecofin) - Interrogé en 1920 par un cri...</td>\n",
       "      <td>Agence Ecofin</td>\n",
       "      <td>Interrogé en 1920 par un critique sur son rapp...</td>\n",
       "      <td>L art negre connais pas l hommage incompris de...</td>\n",
       "    </tr>\n",
       "    <tr>\n",
       "      <th>3</th>\n",
       "      <td>NaN</td>\n",
       "      <td>https://www.agenceecofin.com/actualites/2501-1...</td>\n",
       "      <td>25/01/2025</td>\n",
       "      <td>(Agence Ecofin) - Au menu, le retrait des Etat...</td>\n",
       "      <td>Agence Ecofin</td>\n",
       "      <td>Au menu, le retrait des Etats-Unis de l’OMS, l...</td>\n",
       "      <td>Gestion publique africaine top 5 des infos mar...</td>\n",
       "    </tr>\n",
       "    <tr>\n",
       "      <th>4</th>\n",
       "      <td>NaN</td>\n",
       "      <td>https://www.agenceecofin.com/actualites/2501-1...</td>\n",
       "      <td>25/01/2025</td>\n",
       "      <td>(Agence Ecofin) - La population de Madagascar ...</td>\n",
       "      <td>Agence Ecofin</td>\n",
       "      <td>La population de Madagascar est majoritairemen...</td>\n",
       "      <td>Le fida debloque 145 millions pour developpeme...</td>\n",
       "    </tr>\n",
       "  </tbody>\n",
       "</table>\n",
       "</div>"
      ],
      "text/plain": [
       "   Titre                                               Lien        Date  \\\n",
       "0    NaN  https://www.agenceecofin.com/actualites/2501-1...  25/01/2025   \n",
       "1    NaN  https://www.agenceecofin.com/actualites-infras...  25/01/2025   \n",
       "2    NaN  https://www.agenceecofin.com/actualites-cultur...  25/01/2025   \n",
       "3    NaN  https://www.agenceecofin.com/actualites/2501-1...  25/01/2025   \n",
       "4    NaN  https://www.agenceecofin.com/actualites/2501-1...  25/01/2025   \n",
       "\n",
       "                                               Texte         Source  \\\n",
       "0  (Agence Ecofin) - Le Gabon a mené plusieurs ac...  Agence Ecofin   \n",
       "1  (Agence Ecofin) - L'année 2025 s'annonce comme...  Agence Ecofin   \n",
       "2  (Agence Ecofin) - Interrogé en 1920 par un cri...  Agence Ecofin   \n",
       "3  (Agence Ecofin) - Au menu, le retrait des Etat...  Agence Ecofin   \n",
       "4  (Agence Ecofin) - La population de Madagascar ...  Agence Ecofin   \n",
       "\n",
       "                                             Contenu  \\\n",
       "0  Le Gabon a mené plusieurs actions ces dernière...   \n",
       "1  L'année 2025 s'annonce comme charnière pour le...   \n",
       "2  Interrogé en 1920 par un critique sur son rapp...   \n",
       "3  Au menu, le retrait des Etats-Unis de l’OMS, l...   \n",
       "4  La population de Madagascar est majoritairemen...   \n",
       "\n",
       "                                               titre  \n",
       "0  Gabon la production industrielle de bois en ha...  \n",
       "1  Energies trump dramani mahama et labonne parmi...  \n",
       "2  L art negre connais pas l hommage incompris de...  \n",
       "3  Gestion publique africaine top 5 des infos mar...  \n",
       "4  Le fida debloque 145 millions pour developpeme...  "
      ]
     },
     "execution_count": 16,
     "metadata": {},
     "output_type": "execute_result"
    }
   ],
   "source": [
    "article.head()"
   ]
  },
  {
   "cell_type": "code",
   "execution_count": 17,
   "metadata": {},
   "outputs": [
    {
     "data": {
      "text/plain": [
       "\"(Agence Ecofin) - L'année 2025 s'annonce comme charnière pour le secteur énergétique africain. De nombreux acteurs clés seront au cœur des attentes pour définir et façonner son avenir.\\nLa Chambre africaine de l'Énergie (AEC) a récemment publié sa liste des 40 personnalités à suivre dans le secteur énergétique en Afrique. Intitulée «\\xa0AEC - 40 Movers and Shakers to Watch in Africa in 2025\\xa0», elle met en lumière des figures influentes issues de divers milieux professionnels.\\nLa liste inclut notamment 8 ministres, ainsi que 3 chefs d’État à savoir John Dramani Mahama (Ghana), Daniel Francisco Chapo (Mozambique) et Donald Trump (États-Unis), ce dernier étant connu pour son intérêt marqué pour le secteur pétrogazier. John Dramani Mahama est attendu sur le front de la relance du secteur pétrolier ghanéen et de l’attraction des investissements nécessaires. De son côté, Ruth Nankabirwa Ssentamu, ministre ougandaise de l'Énergie et du Développement minéral, a pour mission de piloter le développement des champs pétroliers du pays tout en surmontant les défis liés à l’oléoduc d’Afrique de l’Est.\\nLa liste recense aussi 21 PDG ou dirigeants d'entreprises du secteur énergétique ainsi que 8 personnalités issues de secteurs connexes. Y figure Philippe Labonne, PDG d’Africa Global Logistics (AGL), seule entreprise de transport et logistique à apparaître dans la liste. AGL se distingue par son rôle crucial dans le développement d’infrastructures logistiques nécessaires au soutien de projets énergétiques à travers le continent.\\nSous la direction de Philippe Labonne, l’entreprise poursuit son expansion en gérant des actifs stratégiques tels que le terminal polyvalent de Walvis Bay en Namibie, un nouveau bureau à Lagos (Nigeria) et le terminal de Lobito en Angola. AGL explore également des opportunités de croissance en Afrique de l’Est et en Afrique du Nord.\\n«À mesure qu'AGL développe ses opérations, sa capacité à distribuer efficacement les ressources énergétiques de l'Afrique deviendra de plus en plus essentielle. En 2025, la question est de savoir si AGL pourra tirer parti de sa présence croissante pour améliorer l'efficacité, surmonter les défis logistiques et contribuer à débloquer de nouvelles opportunités pour le secteur énergétique africain, se positionnant ainsi comme un acteur clé de l'avenir énergétique du continent» souligne l’AEC.\\nL’année 2025 est perçue par de nombreux observateurs comme une période charnière pour le secteur énergétique africain. Du Sénégal au Mozambique en passant par le Niger et la Côte d’Ivoire, la mise en production de nombreux gisements d’hydrocarbures sera suivie de près par les analystes. Cependant, l’annonce de Donald Trump concernant une baisse des prix du pétrole inquiète déjà les décideurs, en raison des éventuelles répercussions sur les économies africaines fortement dépendantes des matières premières.\\nMoutiou Adjibi Nourou\\nEdité par\\xa0:Feriol Bewa\\nListe des 40 personnalités influentes à suivre en Afrique en 2025 selon l'AEC\\n1- Daniel Francisco Chapo, Président, Mozambique\\n2- Donald Trump, Président, États-Unis\\n3- Ruth Nankabirwa Ssentamu, Ministre de l'Énergie et du Développement minéral, Ouganda\\n4- John Mahama, Président, Ghana\\n5- Tom Alweendo, Ministre des Mines et de l'Énergie, Namibie\\n6- Meg O’Neill, PDG, Woodside Energy\\n7- Andrew G. Inglis, PDG, Kosmos Energy\\n8- Khalifa Abdulsadek, Ministre du Pétrole et du Gaz, Libye\\n9- Stefano Marani, PDG, Renergen\\n10- Xiao Liangping, Président, Wing Wah E&P\\n11- Claudio Descalzi, PDG, Eni\\n12- Scott Macmillan, Directeur Général, Invictus Energy\\n13- Godfrey Moagi, PDG, South African National Petroleum Company (SANPC)\\n14- Rene Awambeng, Fondateur et associé directeur, Premier Invest\\n15- Benedict Oramah, Président, African Export-Import Bank (Afreximbank)\\n16- Anibor Kragha, Secrétaire exécutif, African Refiners & Distributors Association (ARDA)\\n17- Arne Gibbs, Directeur Général et Responsable Pays, ExxonMobil Mozambique\\n18- Wale Tinubu, Directeur Général du Groupe, Oando PLC\\n19- Roger Brown, PDG, Seplat Energy\\n20- Sylvia dos Anjos, Responsable E&P, Petrobras\\n21- Adriano Mongini, PDG, Azule Energy\\n22- Katrina Fisher, Directrice Générale Angola, ExxonMobil\\n23- Julius Rone, PDG, UTM Offshore\\n24- Puot Kang Chol, Ministre du Pétrole, Sud-Soudan\\n25- Bruno Jean-Richard Itoua, Ministre des Hydrocarbures, République du Congo\\n26- Antonio Oburu Ondo, Ministre des Mines et des Hydrocarbures, Guinée équatoriale\\n27- Paul McDade, PDG, Afentra PLC\\n28- Edson dos Santos, PDG, Etu Energias\\n29- Jean-Michel Jacoulot, PDG, Trident Energy\\n30- Nosa Omorodion, Directeur Pays, SLB Nigeria\\n31- Diamantino Azevedo, Ministre des Ressources minérales, du Pétrole et du Gaz, Angola\\n32- Philippe Labonne, PDG, Africa Global Logistics (AGL)\\n33- Armel Simondin, PDG, Perenco\\n34- Sebastião Gaspar Martins, PDG, Sonangol\\n35- Foday Mansaray, Directeur Général, Direction du Pétrole de Sierra Leone\\n36- Maxient Raoul Ominga, Directeur Général, Société Nationale des Pétroles du Congo (SNPC)\\n37- Ahonsi Unuigbe, Fondateur et PDG, Petralon Energy\\n38- Rachid Hachichi, PDG, Sonatrach\\n39- Fatoumata Sanogo, PDG, PETROCI\\n40- Kristian Johansen, PDG, TGS\""
      ]
     },
     "execution_count": 17,
     "metadata": {},
     "output_type": "execute_result"
    }
   ],
   "source": [
    "article['Texte'][1]"
   ]
  },
  {
   "cell_type": "code",
   "execution_count": 18,
   "metadata": {},
   "outputs": [
    {
     "data": {
      "text/plain": [
       "\"L'année 2025 s'annonce comme charnière pour le secteur énergétique africain. De nombreux acteurs clés seront au cœur des attentes pour définir et façonner son avenir. La Chambre africaine de l'Énergie (AEC) a récemment publié sa liste des 40 personnalités à suivre dans le secteur énergétique en Afrique. Intitulée «\\xa0AEC - 40 Movers and Shakers to Watch in Africa in 2025\\xa0», elle met en lumière des figures influentes issues de divers milieux professionnels. La liste inclut notamment 8 ministres, ainsi que 3 chefs d’État à savoir John Dramani Mahama (Ghana), Daniel Francisco Chapo (Mozambique) et Donald Trump (États-Unis), ce dernier étant connu pour son intérêt marqué pour le secteur pétrogazier. John Dramani Mahama est attendu sur le front de la relance du secteur pétrolier ghanéen et de l’attraction des investissements nécessaires. De son côté, Ruth Nankabirwa Ssentamu, ministre ougandaise de l'Énergie et du Développement minéral, a pour mission de piloter le développement des champs pétroliers du pays tout en surmontant les défis liés à l’oléoduc d’Afrique de l’Est. La liste recense aussi 21 PDG ou dirigeants d'entreprises du secteur énergétique ainsi que 8 personnalités issues de secteurs connexes. Y figure Philippe Labonne, PDG d’Africa Global Logistics (AGL), seule entreprise de transport et logistique à apparaître dans la liste. AGL se distingue par son rôle crucial dans le développement d’infrastructures logistiques nécessaires au soutien de projets énergétiques à travers le continent. Sous la direction de Philippe Labonne, l’entreprise poursuit son expansion en gérant des actifs stratégiques tels que le terminal polyvalent de Walvis Bay en Namibie, un nouveau bureau à Lagos (Nigeria) et le terminal de Lobito en Angola. AGL explore également des opportunités de croissance en Afrique de l’Est et en Afrique du Nord. «À mesure qu'AGL développe ses opérations, sa capacité à distribuer efficacement les ressources énergétiques de l'Afrique deviendra de plus en plus essentielle. En 2025, la question est de savoir si AGL pourra tirer parti de sa présence croissante pour améliorer l'efficacité, surmonter les défis logistiques et contribuer à débloquer de nouvelles opportunités pour le secteur énergétique africain, se positionnant ainsi comme un acteur clé de l'avenir énergétique du continent» souligne l’AEC. L’année 2025 est perçue par de nombreux observateurs comme une période charnière pour le secteur énergétique africain. Du Sénégal au Mozambique en passant par le Niger et la Côte d’Ivoire, la mise en production de nombreux gisements d’hydrocarbures sera suivie de près par les analystes. Cependant, l’annonce de Donald Trump concernant une baisse des prix du pétrole inquiète déjà les décideurs, en raison des éventuelles répercussions sur les économies africaines fortement dépendantes des matières premières.\""
      ]
     },
     "execution_count": 18,
     "metadata": {},
     "output_type": "execute_result"
    }
   ],
   "source": [
    "article['Contenu'][1]"
   ]
  },
  {
   "cell_type": "code",
   "execution_count": 19,
   "metadata": {},
   "outputs": [
    {
     "data": {
      "text/plain": [
       "\"(Agence Ecofin) - Annoncée début janvier par le gouvernement, la hausse des tarifs télécoms a fait protester le Congrès syndical nigérian (NLC), l'Association nationale des abonnés aux télécommunications (NATCOMS), le Congrès syndical des travailleurs (CST) ou encore la Coalition des groupes du Nord (CNG).\\nPlusieurs associations de consommateurs ainsi que des syndicats sont montés au créneau pour contester la hausse de 50% des tarifs télécoms approuvée le lundi 20 janvier par la Commission nigériane des communications (NCC). Ils estiment que cette mesure est insensible et malvenue dans un contexte où les travailleurs et la population font face à des difficultés économiques.\\nSelon Joe Ajaero, président du Congrès syndical nigérian (NLC),«\\xa0un travailleur nigérian moyen dépense déjà environ 10% de son salaire en frais de télécommunication.[...]Pour un travailleur gagnant le salaire minimum actuel de 70\\xa0000 nairas (environ 45 USD), cela signifie une hausse de 7000 à 10\\xa0500 nairas par mois, soit 15% de son salaire. Un coût insoutenable\\xa0».\\nCette contestation survient alors que les opérateurs télécoms se plaignent eux aussi de la hausse de leurs coûts opérationnels, à cause entre autres de la dépréciation du naira par rapport aux monnaies internationales et de la flambée des prix des hydrocarbures, en particulier celui du diesel utilisé pour alimenter les tours télécoms. Les opérateurs avaient demandé une hausse de 100% pour continuer à fournir des services de qualité.\\n«\\xa0L'augmentation des coûts[opérationnels, Ndlr.]a eu un impact significatif sur nos résultats. Cet ajustement est crucial pour que nous puissions continuer à investir dans l'expansion du réseau, à améliorer la qualité du service et à stimuler l'innovation dans le secteur\\xa0»a indiqué Karl Teniola, DG de MTN Nigeria.\\nLes syndicats et associations de consommateurs appellent le gouvernement nigérian et la NCC à suspendre cette augmentation et à engager un dialogue pour trouver une solution plus équitable.\\nAdoni Conrad Quenum\\nEdité par\\xa0:Feriol Bewa\\nLire aussi:\\n21/01/2025\\xa0- Nigeria\\xa0: le régulateur approuve une hausse de jusqu’à 50% des tarifs des services télécoms\\n09/01/2025\\xa0- Nigeria\\xa0: le ministre des Télécoms annonce la hausse des prix\\n09/01/2025\\xa0- Acculés, les opérateurs télécoms nigérians proposent une hausse de 100% de leurs tarifs\""
      ]
     },
     "execution_count": 19,
     "metadata": {},
     "output_type": "execute_result"
    }
   ],
   "source": [
    "article['Texte'][10]"
   ]
  },
  {
   "cell_type": "code",
   "execution_count": 20,
   "metadata": {},
   "outputs": [
    {
     "data": {
      "text/plain": [
       "\"Annoncée début janvier par le gouvernement, la hausse des tarifs télécoms a fait protester le Congrès syndical nigérian (NLC), l'Association nationale des abonnés aux télécommunications (NATCOMS), le Congrès syndical des travailleurs (CST) ou encore la Coalition des groupes du Nord (CNG). Plusieurs associations de consommateurs ainsi que des syndicats sont montés au créneau pour contester la hausse de 50% des tarifs télécoms approuvée le lundi 20 janvier par la Commission nigériane des communications (NCC). Ils estiment que cette mesure est insensible et malvenue dans un contexte où les travailleurs et la population font face à des difficultés économiques. Selon Joe Ajaero, président du Congrès syndical nigérian (NLC),«\\xa0un travailleur nigérian moyen dépense déjà environ 10% de son salaire en frais de télécommunication.[...]Pour un travailleur gagnant le salaire minimum actuel de 70\\xa0000 nairas (environ 45 USD), cela signifie une hausse de 7000 à 10\\xa0500 nairas par mois, soit 15% de son salaire. Un coût insoutenable\\xa0». Cette contestation survient alors que les opérateurs télécoms se plaignent eux aussi de la hausse de leurs coûts opérationnels, à cause entre autres de la dépréciation du naira par rapport aux monnaies internationales et de la flambée des prix des hydrocarbures, en particulier celui du diesel utilisé pour alimenter les tours télécoms. Les opérateurs avaient demandé une hausse de 100% pour continuer à fournir des services de qualité. «\\xa0L'augmentation des coûts[opérationnels, Ndlr.]a eu un impact significatif sur nos résultats. Cet ajustement est crucial pour que nous puissions continuer à investir dans l'expansion du réseau, à améliorer la qualité du service et à stimuler l'innovation dans le secteur\\xa0»a indiqué Karl Teniola, DG de MTN Nigeria. Les syndicats et associations de consommateurs appellent le gouvernement nigérian et la NCC à suspendre cette augmentation et à engager un dialogue pour trouver une solution plus équitable.\""
      ]
     },
     "execution_count": 20,
     "metadata": {},
     "output_type": "execute_result"
    }
   ],
   "source": [
    "article['Contenu'][10]"
   ]
  },
  {
   "cell_type": "code",
   "execution_count": 21,
   "metadata": {},
   "outputs": [],
   "source": [
    "def preprocess(text):\n",
    "    # Convertir en minuscules\n",
    "    text = text.lower()\n",
    "    # Supprimer les espaces inutiles\n",
    "    text = text.strip()\n",
    "    return text"
   ]
  },
  {
   "cell_type": "code",
   "execution_count": 22,
   "metadata": {},
   "outputs": [],
   "source": [
    "article['Texte_index'] = article['Contenu'].apply(lambda x: preprocess(x))"
   ]
  },
  {
   "cell_type": "code",
   "execution_count": 23,
   "metadata": {},
   "outputs": [
    {
     "data": {
      "text/html": [
       "<div>\n",
       "<style scoped>\n",
       "    .dataframe tbody tr th:only-of-type {\n",
       "        vertical-align: middle;\n",
       "    }\n",
       "\n",
       "    .dataframe tbody tr th {\n",
       "        vertical-align: top;\n",
       "    }\n",
       "\n",
       "    .dataframe thead th {\n",
       "        text-align: right;\n",
       "    }\n",
       "</style>\n",
       "<table border=\"1\" class=\"dataframe\">\n",
       "  <thead>\n",
       "    <tr style=\"text-align: right;\">\n",
       "      <th></th>\n",
       "      <th>Titre</th>\n",
       "      <th>Lien</th>\n",
       "      <th>Date</th>\n",
       "      <th>Texte</th>\n",
       "      <th>Source</th>\n",
       "      <th>Contenu</th>\n",
       "      <th>titre</th>\n",
       "      <th>Texte_index</th>\n",
       "    </tr>\n",
       "  </thead>\n",
       "  <tbody>\n",
       "    <tr>\n",
       "      <th>0</th>\n",
       "      <td>NaN</td>\n",
       "      <td>https://www.agenceecofin.com/actualites/2501-1...</td>\n",
       "      <td>25/01/2025</td>\n",
       "      <td>(Agence Ecofin) - Le Gabon a mené plusieurs ac...</td>\n",
       "      <td>Agence Ecofin</td>\n",
       "      <td>Le Gabon a mené plusieurs actions ces dernière...</td>\n",
       "      <td>Gabon la production industrielle de bois en ha...</td>\n",
       "      <td>le gabon a mené plusieurs actions ces dernière...</td>\n",
       "    </tr>\n",
       "    <tr>\n",
       "      <th>1</th>\n",
       "      <td>NaN</td>\n",
       "      <td>https://www.agenceecofin.com/actualites-infras...</td>\n",
       "      <td>25/01/2025</td>\n",
       "      <td>(Agence Ecofin) - L'année 2025 s'annonce comme...</td>\n",
       "      <td>Agence Ecofin</td>\n",
       "      <td>L'année 2025 s'annonce comme charnière pour le...</td>\n",
       "      <td>Energies trump dramani mahama et labonne parmi...</td>\n",
       "      <td>l'année 2025 s'annonce comme charnière pour le...</td>\n",
       "    </tr>\n",
       "    <tr>\n",
       "      <th>2</th>\n",
       "      <td>NaN</td>\n",
       "      <td>https://www.agenceecofin.com/actualites-cultur...</td>\n",
       "      <td>25/01/2025</td>\n",
       "      <td>(Agence Ecofin) - Interrogé en 1920 par un cri...</td>\n",
       "      <td>Agence Ecofin</td>\n",
       "      <td>Interrogé en 1920 par un critique sur son rapp...</td>\n",
       "      <td>L art negre connais pas l hommage incompris de...</td>\n",
       "      <td>interrogé en 1920 par un critique sur son rapp...</td>\n",
       "    </tr>\n",
       "    <tr>\n",
       "      <th>3</th>\n",
       "      <td>NaN</td>\n",
       "      <td>https://www.agenceecofin.com/actualites/2501-1...</td>\n",
       "      <td>25/01/2025</td>\n",
       "      <td>(Agence Ecofin) - Au menu, le retrait des Etat...</td>\n",
       "      <td>Agence Ecofin</td>\n",
       "      <td>Au menu, le retrait des Etats-Unis de l’OMS, l...</td>\n",
       "      <td>Gestion publique africaine top 5 des infos mar...</td>\n",
       "      <td>au menu, le retrait des etats-unis de l’oms, l...</td>\n",
       "    </tr>\n",
       "    <tr>\n",
       "      <th>4</th>\n",
       "      <td>NaN</td>\n",
       "      <td>https://www.agenceecofin.com/actualites/2501-1...</td>\n",
       "      <td>25/01/2025</td>\n",
       "      <td>(Agence Ecofin) - La population de Madagascar ...</td>\n",
       "      <td>Agence Ecofin</td>\n",
       "      <td>La population de Madagascar est majoritairemen...</td>\n",
       "      <td>Le fida debloque 145 millions pour developpeme...</td>\n",
       "      <td>la population de madagascar est majoritairemen...</td>\n",
       "    </tr>\n",
       "  </tbody>\n",
       "</table>\n",
       "</div>"
      ],
      "text/plain": [
       "   Titre                                               Lien        Date  \\\n",
       "0    NaN  https://www.agenceecofin.com/actualites/2501-1...  25/01/2025   \n",
       "1    NaN  https://www.agenceecofin.com/actualites-infras...  25/01/2025   \n",
       "2    NaN  https://www.agenceecofin.com/actualites-cultur...  25/01/2025   \n",
       "3    NaN  https://www.agenceecofin.com/actualites/2501-1...  25/01/2025   \n",
       "4    NaN  https://www.agenceecofin.com/actualites/2501-1...  25/01/2025   \n",
       "\n",
       "                                               Texte         Source  \\\n",
       "0  (Agence Ecofin) - Le Gabon a mené plusieurs ac...  Agence Ecofin   \n",
       "1  (Agence Ecofin) - L'année 2025 s'annonce comme...  Agence Ecofin   \n",
       "2  (Agence Ecofin) - Interrogé en 1920 par un cri...  Agence Ecofin   \n",
       "3  (Agence Ecofin) - Au menu, le retrait des Etat...  Agence Ecofin   \n",
       "4  (Agence Ecofin) - La population de Madagascar ...  Agence Ecofin   \n",
       "\n",
       "                                             Contenu  \\\n",
       "0  Le Gabon a mené plusieurs actions ces dernière...   \n",
       "1  L'année 2025 s'annonce comme charnière pour le...   \n",
       "2  Interrogé en 1920 par un critique sur son rapp...   \n",
       "3  Au menu, le retrait des Etats-Unis de l’OMS, l...   \n",
       "4  La population de Madagascar est majoritairemen...   \n",
       "\n",
       "                                               titre  \\\n",
       "0  Gabon la production industrielle de bois en ha...   \n",
       "1  Energies trump dramani mahama et labonne parmi...   \n",
       "2  L art negre connais pas l hommage incompris de...   \n",
       "3  Gestion publique africaine top 5 des infos mar...   \n",
       "4  Le fida debloque 145 millions pour developpeme...   \n",
       "\n",
       "                                         Texte_index  \n",
       "0  le gabon a mené plusieurs actions ces dernière...  \n",
       "1  l'année 2025 s'annonce comme charnière pour le...  \n",
       "2  interrogé en 1920 par un critique sur son rapp...  \n",
       "3  au menu, le retrait des etats-unis de l’oms, l...  \n",
       "4  la population de madagascar est majoritairemen...  "
      ]
     },
     "execution_count": 23,
     "metadata": {},
     "output_type": "execute_result"
    }
   ],
   "source": [
    "article.head()"
   ]
  },
  {
   "cell_type": "code",
   "execution_count": 25,
   "metadata": {},
   "outputs": [],
   "source": [
    "data = article[[\"Source\", \"titre\", \"Contenu\", \"Texte_index\", \"Date\", \"Lien\"]]"
   ]
  },
  {
   "cell_type": "code",
   "execution_count": 26,
   "metadata": {},
   "outputs": [
    {
     "data": {
      "text/html": [
       "<div>\n",
       "<style scoped>\n",
       "    .dataframe tbody tr th:only-of-type {\n",
       "        vertical-align: middle;\n",
       "    }\n",
       "\n",
       "    .dataframe tbody tr th {\n",
       "        vertical-align: top;\n",
       "    }\n",
       "\n",
       "    .dataframe thead th {\n",
       "        text-align: right;\n",
       "    }\n",
       "</style>\n",
       "<table border=\"1\" class=\"dataframe\">\n",
       "  <thead>\n",
       "    <tr style=\"text-align: right;\">\n",
       "      <th></th>\n",
       "      <th>Source</th>\n",
       "      <th>titre</th>\n",
       "      <th>Contenu</th>\n",
       "      <th>Texte_index</th>\n",
       "      <th>Date</th>\n",
       "      <th>Lien</th>\n",
       "    </tr>\n",
       "  </thead>\n",
       "  <tbody>\n",
       "    <tr>\n",
       "      <th>0</th>\n",
       "      <td>Agence Ecofin</td>\n",
       "      <td>Gabon la production industrielle de bois en ha...</td>\n",
       "      <td>Le Gabon a mené plusieurs actions ces dernière...</td>\n",
       "      <td>le gabon a mené plusieurs actions ces dernière...</td>\n",
       "      <td>25/01/2025</td>\n",
       "      <td>https://www.agenceecofin.com/actualites/2501-1...</td>\n",
       "    </tr>\n",
       "    <tr>\n",
       "      <th>1</th>\n",
       "      <td>Agence Ecofin</td>\n",
       "      <td>Energies trump dramani mahama et labonne parmi...</td>\n",
       "      <td>L'année 2025 s'annonce comme charnière pour le...</td>\n",
       "      <td>l'année 2025 s'annonce comme charnière pour le...</td>\n",
       "      <td>25/01/2025</td>\n",
       "      <td>https://www.agenceecofin.com/actualites-infras...</td>\n",
       "    </tr>\n",
       "    <tr>\n",
       "      <th>2</th>\n",
       "      <td>Agence Ecofin</td>\n",
       "      <td>L art negre connais pas l hommage incompris de...</td>\n",
       "      <td>Interrogé en 1920 par un critique sur son rapp...</td>\n",
       "      <td>interrogé en 1920 par un critique sur son rapp...</td>\n",
       "      <td>25/01/2025</td>\n",
       "      <td>https://www.agenceecofin.com/actualites-cultur...</td>\n",
       "    </tr>\n",
       "    <tr>\n",
       "      <th>3</th>\n",
       "      <td>Agence Ecofin</td>\n",
       "      <td>Gestion publique africaine top 5 des infos mar...</td>\n",
       "      <td>Au menu, le retrait des Etats-Unis de l’OMS, l...</td>\n",
       "      <td>au menu, le retrait des etats-unis de l’oms, l...</td>\n",
       "      <td>25/01/2025</td>\n",
       "      <td>https://www.agenceecofin.com/actualites/2501-1...</td>\n",
       "    </tr>\n",
       "    <tr>\n",
       "      <th>4</th>\n",
       "      <td>Agence Ecofin</td>\n",
       "      <td>Le fida debloque 145 millions pour developpeme...</td>\n",
       "      <td>La population de Madagascar est majoritairemen...</td>\n",
       "      <td>la population de madagascar est majoritairemen...</td>\n",
       "      <td>25/01/2025</td>\n",
       "      <td>https://www.agenceecofin.com/actualites/2501-1...</td>\n",
       "    </tr>\n",
       "  </tbody>\n",
       "</table>\n",
       "</div>"
      ],
      "text/plain": [
       "          Source                                              titre  \\\n",
       "0  Agence Ecofin  Gabon la production industrielle de bois en ha...   \n",
       "1  Agence Ecofin  Energies trump dramani mahama et labonne parmi...   \n",
       "2  Agence Ecofin  L art negre connais pas l hommage incompris de...   \n",
       "3  Agence Ecofin  Gestion publique africaine top 5 des infos mar...   \n",
       "4  Agence Ecofin  Le fida debloque 145 millions pour developpeme...   \n",
       "\n",
       "                                             Contenu  \\\n",
       "0  Le Gabon a mené plusieurs actions ces dernière...   \n",
       "1  L'année 2025 s'annonce comme charnière pour le...   \n",
       "2  Interrogé en 1920 par un critique sur son rapp...   \n",
       "3  Au menu, le retrait des Etats-Unis de l’OMS, l...   \n",
       "4  La population de Madagascar est majoritairemen...   \n",
       "\n",
       "                                         Texte_index        Date  \\\n",
       "0  le gabon a mené plusieurs actions ces dernière...  25/01/2025   \n",
       "1  l'année 2025 s'annonce comme charnière pour le...  25/01/2025   \n",
       "2  interrogé en 1920 par un critique sur son rapp...  25/01/2025   \n",
       "3  au menu, le retrait des etats-unis de l’oms, l...  25/01/2025   \n",
       "4  la population de madagascar est majoritairemen...  25/01/2025   \n",
       "\n",
       "                                                Lien  \n",
       "0  https://www.agenceecofin.com/actualites/2501-1...  \n",
       "1  https://www.agenceecofin.com/actualites-infras...  \n",
       "2  https://www.agenceecofin.com/actualites-cultur...  \n",
       "3  https://www.agenceecofin.com/actualites/2501-1...  \n",
       "4  https://www.agenceecofin.com/actualites/2501-1...  "
      ]
     },
     "execution_count": 26,
     "metadata": {},
     "output_type": "execute_result"
    }
   ],
   "source": [
    "data.head()"
   ]
  },
  {
   "cell_type": "code",
   "execution_count": 27,
   "metadata": {},
   "outputs": [
    {
     "data": {
      "text/plain": [
       "Source         0\n",
       "titre          0\n",
       "Contenu        0\n",
       "Texte_index    0\n",
       "Date           0\n",
       "Lien           0\n",
       "dtype: int64"
      ]
     },
     "execution_count": 27,
     "metadata": {},
     "output_type": "execute_result"
    }
   ],
   "source": [
    "data.isnull().sum()"
   ]
  },
  {
   "cell_type": "code",
   "execution_count": 28,
   "metadata": {},
   "outputs": [],
   "source": [
    "data.to_csv(\"data.csv\", index=False, encoding=\"utf-8\")\n"
   ]
  }
 ],
 "metadata": {
  "kernelspec": {
   "display_name": "web",
   "language": "python",
   "name": "python3"
  },
  "language_info": {
   "codemirror_mode": {
    "name": "ipython",
    "version": 3
   },
   "file_extension": ".py",
   "mimetype": "text/x-python",
   "name": "python",
   "nbconvert_exporter": "python",
   "pygments_lexer": "ipython3",
   "version": "3.11.2"
  }
 },
 "nbformat": 4,
 "nbformat_minor": 2
}
