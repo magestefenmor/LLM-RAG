{
 "cells": [
  {
   "cell_type": "code",
   "execution_count": 9,
   "metadata": {},
   "outputs": [],
   "source": [
    "import pandas as pd\n",
    "import json\n"
   ]
  },
  {
   "cell_type": "code",
   "execution_count": 2,
   "metadata": {},
   "outputs": [],
   "source": [
    "data = pd.read_csv(\"data.csv\")"
   ]
  },
  {
   "cell_type": "code",
   "execution_count": 5,
   "metadata": {},
   "outputs": [
    {
     "data": {
      "text/html": [
       "<div>\n",
       "<style scoped>\n",
       "    .dataframe tbody tr th:only-of-type {\n",
       "        vertical-align: middle;\n",
       "    }\n",
       "\n",
       "    .dataframe tbody tr th {\n",
       "        vertical-align: top;\n",
       "    }\n",
       "\n",
       "    .dataframe thead th {\n",
       "        text-align: right;\n",
       "    }\n",
       "</style>\n",
       "<table border=\"1\" class=\"dataframe\">\n",
       "  <thead>\n",
       "    <tr style=\"text-align: right;\">\n",
       "      <th></th>\n",
       "      <th>Source</th>\n",
       "      <th>titre</th>\n",
       "      <th>Contenu</th>\n",
       "      <th>Texte_index</th>\n",
       "      <th>Date</th>\n",
       "      <th>Lien</th>\n",
       "    </tr>\n",
       "  </thead>\n",
       "  <tbody>\n",
       "    <tr>\n",
       "      <th>0</th>\n",
       "      <td>Agence Ecofin</td>\n",
       "      <td>Gabon la production industrielle de bois en ha...</td>\n",
       "      <td>Le Gabon a mené plusieurs actions ces dernière...</td>\n",
       "      <td>le gabon a mené plusieurs actions ces dernière...</td>\n",
       "      <td>25/01/2025</td>\n",
       "      <td>https://www.agenceecofin.com/actualites/2501-1...</td>\n",
       "    </tr>\n",
       "    <tr>\n",
       "      <th>1</th>\n",
       "      <td>Agence Ecofin</td>\n",
       "      <td>Energies trump dramani mahama et labonne parmi...</td>\n",
       "      <td>L'année 2025 s'annonce comme charnière pour le...</td>\n",
       "      <td>l'année 2025 s'annonce comme charnière pour le...</td>\n",
       "      <td>25/01/2025</td>\n",
       "      <td>https://www.agenceecofin.com/actualites-infras...</td>\n",
       "    </tr>\n",
       "    <tr>\n",
       "      <th>2</th>\n",
       "      <td>Agence Ecofin</td>\n",
       "      <td>L art negre connais pas l hommage incompris de...</td>\n",
       "      <td>Interrogé en 1920 par un critique sur son rapp...</td>\n",
       "      <td>interrogé en 1920 par un critique sur son rapp...</td>\n",
       "      <td>25/01/2025</td>\n",
       "      <td>https://www.agenceecofin.com/actualites-cultur...</td>\n",
       "    </tr>\n",
       "    <tr>\n",
       "      <th>3</th>\n",
       "      <td>Agence Ecofin</td>\n",
       "      <td>Gestion publique africaine top 5 des infos mar...</td>\n",
       "      <td>Au menu, le retrait des Etats-Unis de l’OMS, l...</td>\n",
       "      <td>au menu, le retrait des etats-unis de l’oms, l...</td>\n",
       "      <td>25/01/2025</td>\n",
       "      <td>https://www.agenceecofin.com/actualites/2501-1...</td>\n",
       "    </tr>\n",
       "    <tr>\n",
       "      <th>4</th>\n",
       "      <td>Agence Ecofin</td>\n",
       "      <td>Le fida debloque 145 millions pour developpeme...</td>\n",
       "      <td>La population de Madagascar est majoritairemen...</td>\n",
       "      <td>la population de madagascar est majoritairemen...</td>\n",
       "      <td>25/01/2025</td>\n",
       "      <td>https://www.agenceecofin.com/actualites/2501-1...</td>\n",
       "    </tr>\n",
       "  </tbody>\n",
       "</table>\n",
       "</div>"
      ],
      "text/plain": [
       "          Source                                              titre  \\\n",
       "0  Agence Ecofin  Gabon la production industrielle de bois en ha...   \n",
       "1  Agence Ecofin  Energies trump dramani mahama et labonne parmi...   \n",
       "2  Agence Ecofin  L art negre connais pas l hommage incompris de...   \n",
       "3  Agence Ecofin  Gestion publique africaine top 5 des infos mar...   \n",
       "4  Agence Ecofin  Le fida debloque 145 millions pour developpeme...   \n",
       "\n",
       "                                             Contenu  \\\n",
       "0  Le Gabon a mené plusieurs actions ces dernière...   \n",
       "1  L'année 2025 s'annonce comme charnière pour le...   \n",
       "2  Interrogé en 1920 par un critique sur son rapp...   \n",
       "3  Au menu, le retrait des Etats-Unis de l’OMS, l...   \n",
       "4  La population de Madagascar est majoritairemen...   \n",
       "\n",
       "                                         Texte_index        Date  \\\n",
       "0  le gabon a mené plusieurs actions ces dernière...  25/01/2025   \n",
       "1  l'année 2025 s'annonce comme charnière pour le...  25/01/2025   \n",
       "2  interrogé en 1920 par un critique sur son rapp...  25/01/2025   \n",
       "3  au menu, le retrait des etats-unis de l’oms, l...  25/01/2025   \n",
       "4  la population de madagascar est majoritairemen...  25/01/2025   \n",
       "\n",
       "                                                Lien  \n",
       "0  https://www.agenceecofin.com/actualites/2501-1...  \n",
       "1  https://www.agenceecofin.com/actualites-infras...  \n",
       "2  https://www.agenceecofin.com/actualites-cultur...  \n",
       "3  https://www.agenceecofin.com/actualites/2501-1...  \n",
       "4  https://www.agenceecofin.com/actualites/2501-1...  "
      ]
     },
     "execution_count": 5,
     "metadata": {},
     "output_type": "execute_result"
    }
   ],
   "source": [
    "data.head()"
   ]
  },
  {
   "cell_type": "code",
   "execution_count": 3,
   "metadata": {},
   "outputs": [],
   "source": [
    "def chunk_text(texte, taille_max=500):\n",
    "    # Découpe le texte en blocs tout en gardant les phrases intactes\n",
    "    phrases = texte.split('. ')\n",
    "    chunks = []\n",
    "    chunk = \"\"\n",
    "    for phrase in phrases:\n",
    "        if len(chunk) + len(phrase) <= taille_max:\n",
    "            chunk += phrase + '. '\n",
    "        else:\n",
    "            chunks.append(chunk.strip())\n",
    "            chunk = phrase + '. '\n",
    "    if chunk:\n",
    "        chunks.append(chunk.strip())\n",
    "    return chunks\n"
   ]
  },
  {
   "cell_type": "code",
   "execution_count": 6,
   "metadata": {},
   "outputs": [],
   "source": [
    "data['chunks'] = data['Texte_index'].apply(lambda x: chunk_text(x))"
   ]
  },
  {
   "cell_type": "code",
   "execution_count": 7,
   "metadata": {},
   "outputs": [],
   "source": [
    "data['metadata'] = data.apply(lambda row: {'titre': row['titre'], 'date': row['Date'], 'url': row['Lien']}, axis=1)"
   ]
  },
  {
   "cell_type": "code",
   "execution_count": 8,
   "metadata": {},
   "outputs": [
    {
     "name": "stdout",
     "output_type": "stream",
     "text": [
      "Les documents ont été sauvegardés dans 'documents.json'.\n"
     ]
    }
   ],
   "source": [
    "# Préparer les données pour stockage\n",
    "documents = []\n",
    "for _, row in data.iterrows():\n",
    "    for chunk in row['chunks']:\n",
    "        documents.append({\n",
    "            'content': chunk,\n",
    "            'metadata': row['metadata']\n",
    "        })\n",
    "\n",
    "# Sauvegarder en JSON\n",
    "with open('documents.json', 'w', encoding='utf-8') as f:\n",
    "    json.dump(documents, f, ensure_ascii=False, indent=4)\n",
    "\n",
    "print(\"Les documents ont été sauvegardés dans 'documents.json'.\")"
   ]
  },
  {
   "cell_type": "code",
   "execution_count": null,
   "metadata": {},
   "outputs": [],
   "source": []
  }
 ],
 "metadata": {
  "kernelspec": {
   "display_name": "web",
   "language": "python",
   "name": "python3"
  },
  "language_info": {
   "codemirror_mode": {
    "name": "ipython",
    "version": 3
   },
   "file_extension": ".py",
   "mimetype": "text/x-python",
   "name": "python",
   "nbconvert_exporter": "python",
   "pygments_lexer": "ipython3",
   "version": "3.11.2"
  }
 },
 "nbformat": 4,
 "nbformat_minor": 2
}
