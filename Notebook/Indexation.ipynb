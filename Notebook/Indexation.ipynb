{
 "cells": [
  {
   "cell_type": "code",
   "execution_count": 12,
   "metadata": {},
   "outputs": [],
   "source": [
    "import json\n",
    "from llama_index.core import Document, VectorStoreIndex\n",
    "#from sentence_transformers import SentenceTransformer\n",
    "from llama_index.embeddings.huggingface import HuggingFaceEmbedding\n",
    "#from llama_index.core.node_parser import SimpleNodeParser\n",
    "#from llama_index.core.storage import StorageContext\n",
    "#from transformers import pipeline\n",
    "#from langchain.chains import RetrievalQA\n",
    "#from langchain.llms import HuggingFacePipeline\n",
    "from llama_index.core import StorageContext, load_index_from_storage"
   ]
  },
  {
   "cell_type": "code",
   "execution_count": 13,
   "metadata": {},
   "outputs": [],
   "source": [
    "#import google.generativeai as genai\n",
    "#from langchain.chains import RetrievalQA\n",
    "\n"
   ]
  },
  {
   "cell_type": "code",
   "execution_count": 14,
   "metadata": {},
   "outputs": [
    {
     "name": "stdout",
     "output_type": "stream",
     "text": [
      "Nombre de chunks : 1542\n",
      "{'content': 'le gabon a mené plusieurs actions ces dernières années pour valoriser la transformation industrielle de son bois, volet porteur d’une économie jusqu’ici dominée par le pétrole. l’indice composite des activités industrielles du domaine du bois au gabon a grimpé de 4% en glissement trimestriel au 3e trimestre 2024, selon la dernière note conjoncturelle du ministère de l’economie.', 'metadata': {'titre': 'Gabon la production industrielle de bois en hausse de 4 au 3e trimestre 2024', 'date': '25/01/2025', 'url': 'https://www.agenceecofin.com/actualites/2501-125238-gabon-la-production-industrielle-de-bois-en-hausse-de-4-au-3e-trimestre-2024'}}\n"
     ]
    }
   ],
   "source": [
    "\n",
    "\n",
    "# Charger le fichier JSON\n",
    "with open(\"documents.json\", \"r\") as file:\n",
    "    data = json.load(file)\n",
    "\n",
    "# Vérification\n",
    "print(f\"Nombre de chunks : {len(data)}\")\n",
    "print(data[0])  # Affiche le premier chunk pour vérifier la structure\n"
   ]
  },
  {
   "cell_type": "code",
   "execution_count": 15,
   "metadata": {},
   "outputs": [],
   "source": [
    "# Convertir les chunks en Documents\n",
    "documents = [\n",
    "    Document(\n",
    "        text=chunk[\"content\"],\n",
    "        metadata=chunk[\"metadata\"]\n",
    "    )\n",
    "    for chunk in data\n",
    "]\n"
   ]
  },
  {
   "cell_type": "code",
   "execution_count": 20,
   "metadata": {},
   "outputs": [
    {
     "name": "stdout",
     "output_type": "stream",
     "text": [
      "Index vectoriel créé et sauvegardé avec succès !\n"
     ]
    }
   ],
   "source": [
    "# Créer le modèle Hugging Face Embedding\n",
    "embedding = HuggingFaceEmbedding(model_name=\"all-MiniLM-L6-v2\")\n",
    "\n",
    "\n",
    "# Créer un index vectoriel avec les embeddings locaux\n",
    "index = VectorStoreIndex.from_documents(\n",
    "    documents=documents,\n",
    "    embed_model=embedding\n",
    ")\n",
    "\n",
    "# Sauvegarder l'index\n",
    "storage_context = StorageContext.from_defaults()\n",
    "index.storage_context.persist(persist_dir=\"Save/index_data\")\n",
    "print(\"Index vectoriel créé et sauvegardé avec succès !\")\n",
    "\n",
    "\n"
   ]
  },
  {
   "cell_type": "code",
   "execution_count": 21,
   "metadata": {},
   "outputs": [
    {
     "name": "stdout",
     "output_type": "stream",
     "text": [
      "Index vectoriel chargé avec succès!\n"
     ]
    }
   ],
   "source": [
    "#Configurer l'embedding local\n",
    "embedding = HuggingFaceEmbedding(model_name=\"all-MiniLM-L6-v2\")\n",
    "\n",
    "#Charger l'index vectoriel en spécifiant l'embedding\n",
    "storage_context = StorageContext.from_defaults(persist_dir=\"Save/index_data\")\n",
    "index = load_index_from_storage(storage_context, embed_model=embedding)\n",
    "\n",
    "print(\"Index vectoriel chargé avec succès!\")\n"
   ]
  },
  {
   "cell_type": "code",
   "execution_count": 22,
   "metadata": {},
   "outputs": [
    {
     "name": "stdout",
     "output_type": "stream",
     "text": [
      " Document : alors que brice oligui n’guema (photo) qui dirige le pays depuis le putsch d’août 2023 avait promis dès son arrivée de rendre le pouvoir aux civils à l’issue de la transition, les ambitions politiques...\n",
      " Métadonnées : {'titre': 'Gabon la presidentielle aura lieu le 12 avril gouvernement', 'date': '23/01/2025', 'url': 'https://www.agenceecofin.com/actualites/2301-125195-gabon-la-presidentielle-aura-lieu-le-12-avril-gouvernement'}\n",
      " Document : l’indice pour le bois de placage a quant à lui grimpé de 11% par rapport au trimestre précédent, soutenu par la demande en provenance de chine. il n’y a néanmoins pas eu d’embellie sur le segment du s...\n",
      " Métadonnées : {'titre': 'Gabon la production industrielle de bois en hausse de 4 au 3e trimestre 2024', 'date': '25/01/2025', 'url': 'https://www.agenceecofin.com/actualites/2501-125238-gabon-la-production-industrielle-de-bois-en-hausse-de-4-au-3e-trimestre-2024'}\n"
     ]
    }
   ],
   "source": [
    "retriever = index.as_retriever()\n",
    "query = \"Quelles sont les actions du Gabon dans le secteur du bois ?\"\n",
    "retrieved_docs = retriever.retrieve(query)\n",
    "\n",
    "for doc in retrieved_docs:\n",
    "    print(f\" Document : {doc.text[:200]}...\") \n",
    "    print(f\" Métadonnées : {doc.metadata}\")\n"
   ]
  },
  {
   "cell_type": "code",
   "execution_count": 23,
   "metadata": {},
   "outputs": [
    {
     "name": "stdout",
     "output_type": "stream",
     "text": [
      " Document : un partenariat avec la france pourrait permettre au gabon de consolider sa position de leader dans le domaine du numérique en afrique centrale. ce partenariat vise à accroître la contribution du secte...\n",
      " Métadonnées : {'titre': 'Numerique la france explore des opportunites dinvestissement au gabon', 'date': '20/01/2025', 'url': 'https://www.agenceecofin.com/actualites-numerique/2001-125057-numerique-la-france-explore-des-opportunites-dinvestissement-au-gabon'}\n",
      " Document : le gabon se positionne comme un acteur majeur du numérique en afrique centrale. pour continuer à développer ce secteur, le pays mise sur l’attraction des investissements étrangers....\n",
      " Métadonnées : {'titre': 'Numerique la france explore des opportunites dinvestissement au gabon', 'date': '20/01/2025', 'url': 'https://www.agenceecofin.com/actualites-numerique/2001-125057-numerique-la-france-explore-des-opportunites-dinvestissement-au-gabon'}\n"
     ]
    }
   ],
   "source": [
    "retriever = index.as_retriever()\n",
    "query = \"Quelles sont les rapports entre la France et le Gabon ?\"\n",
    "retrieved_docs = retriever.retrieve(query)\n",
    "\n",
    "for doc in retrieved_docs:\n",
    "    print(f\" Document : {doc.text[:200]}...\") \n",
    "    print(f\" Métadonnées : {doc.metadata}\")\n"
   ]
  },
  {
   "cell_type": "code",
   "execution_count": null,
   "metadata": {},
   "outputs": [],
   "source": []
  },
  {
   "cell_type": "code",
   "execution_count": 24,
   "metadata": {},
   "outputs": [
    {
     "name": "stdout",
     "output_type": "stream",
     "text": [
      "\n",
      "🔹 Test avec le modèle all-MiniLM-L6-v2\n",
      "📄 alors que brice oligui n’guema (photo) qui dirige le pays depuis le putsch d’août 2023 avait promis dès son arrivée de rendre le pouvoir aux civils à l’issue de la transition, les ambitions politiques... | 🔗 {'titre': 'Gabon la presidentielle aura lieu le 12 avril gouvernement', 'date': '23/01/2025', 'url': 'https://www.agenceecofin.com/actualites/2301-125195-gabon-la-presidentielle-aura-lieu-le-12-avril-gouvernement'}\n",
      "📄 l’indice pour le bois de placage a quant à lui grimpé de 11% par rapport au trimestre précédent, soutenu par la demande en provenance de chine. il n’y a néanmoins pas eu d’embellie sur le segment du s... | 🔗 {'titre': 'Gabon la production industrielle de bois en hausse de 4 au 3e trimestre 2024', 'date': '25/01/2025', 'url': 'https://www.agenceecofin.com/actualites/2501-125238-gabon-la-production-industrielle-de-bois-en-hausse-de-4-au-3e-trimestre-2024'}\n",
      "\n",
      "🔹 Test avec le modèle all-mpnet-base-v2\n",
      "📄 alors que brice oligui n’guema (photo) qui dirige le pays depuis le putsch d’août 2023 avait promis dès son arrivée de rendre le pouvoir aux civils à l’issue de la transition, les ambitions politiques... | 🔗 {'titre': 'Gabon la presidentielle aura lieu le 12 avril gouvernement', 'date': '23/01/2025', 'url': 'https://www.agenceecofin.com/actualites/2301-125195-gabon-la-presidentielle-aura-lieu-le-12-avril-gouvernement'}\n",
      "📄 l’indice pour le bois de placage a quant à lui grimpé de 11% par rapport au trimestre précédent, soutenu par la demande en provenance de chine. il n’y a néanmoins pas eu d’embellie sur le segment du s... | 🔗 {'titre': 'Gabon la production industrielle de bois en hausse de 4 au 3e trimestre 2024', 'date': '25/01/2025', 'url': 'https://www.agenceecofin.com/actualites/2501-125238-gabon-la-production-industrielle-de-bois-en-hausse-de-4-au-3e-trimestre-2024'}\n",
      "\n",
      "🔹 Test avec le modèle all-distilroberta-v1\n",
      "📄 alors que brice oligui n’guema (photo) qui dirige le pays depuis le putsch d’août 2023 avait promis dès son arrivée de rendre le pouvoir aux civils à l’issue de la transition, les ambitions politiques... | 🔗 {'titre': 'Gabon la presidentielle aura lieu le 12 avril gouvernement', 'date': '23/01/2025', 'url': 'https://www.agenceecofin.com/actualites/2301-125195-gabon-la-presidentielle-aura-lieu-le-12-avril-gouvernement'}\n",
      "📄 l’indice pour le bois de placage a quant à lui grimpé de 11% par rapport au trimestre précédent, soutenu par la demande en provenance de chine. il n’y a néanmoins pas eu d’embellie sur le segment du s... | 🔗 {'titre': 'Gabon la production industrielle de bois en hausse de 4 au 3e trimestre 2024', 'date': '25/01/2025', 'url': 'https://www.agenceecofin.com/actualites/2501-125238-gabon-la-production-industrielle-de-bois-en-hausse-de-4-au-3e-trimestre-2024'}\n"
     ]
    }
   ],
   "source": [
    "models = [\"all-MiniLM-L6-v2\", \"all-mpnet-base-v2\", \"all-distilroberta-v1\"]\n",
    "query = \"Quelles sont les actions du Gabon dans le secteur du bois ?\"\n",
    "\n",
    "for model_name in models:\n",
    "    print(f\"\\n🔹 Test avec le modèle {model_name}\")\n",
    "    embedding = HuggingFaceEmbedding(model_name=model_name)\n",
    "\n",
    "    retriever = index.as_retriever()  # Utiliser le même index\n",
    "    retrieved_docs = retriever.retrieve(query)\n",
    "\n",
    "    for doc in retrieved_docs:\n",
    "        print(f\"📄 {doc.text[:200]}... | 🔗 {doc.metadata}\")\n"
   ]
  }
 ],
 "metadata": {
  "kernelspec": {
   "display_name": "web",
   "language": "python",
   "name": "python3"
  },
  "language_info": {
   "codemirror_mode": {
    "name": "ipython",
    "version": 3
   },
   "file_extension": ".py",
   "mimetype": "text/x-python",
   "name": "python",
   "nbconvert_exporter": "python",
   "pygments_lexer": "ipython3",
   "version": "3.11.2"
  }
 },
 "nbformat": 4,
 "nbformat_minor": 2
}
